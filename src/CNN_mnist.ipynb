{
  "nbformat": 4,
  "nbformat_minor": 0,
  "metadata": {
    "colab": {
      "provenance": [],
      "gpuType": "A100"
    },
    "kernelspec": {
      "name": "python3",
      "display_name": "Python 3"
    },
    "language_info": {
      "name": "python"
    },
    "accelerator": "GPU"
  },
  "cells": [
    {
      "cell_type": "code",
      "execution_count": null,
      "metadata": {
        "id": "fFAxzYxUN-dq"
      },
      "outputs": [],
      "source": [
        "import numpy as np\n",
        "import tensorflow as tf\n",
        "from tensorflow import keras\n",
        "from tensorflow.keras import layers\n",
        "import pandas as pd"
      ]
    },
    {
      "cell_type": "code",
      "source": [
        "# Check if GPU is available\n",
        "print(\"Num GPUs Available: \", len(tf.config.list_physical_devices('GPU')))\n",
        "\n",
        "# Get GPU details\n",
        "if tf.config.list_physical_devices('GPU'):\n",
        "    print(\"GPU is available!\")\n",
        "    print(tf.config.list_physical_devices('GPU'))\n",
        "else:\n",
        "    print(\"No GPU available, using CPU\")"
      ],
      "metadata": {
        "colab": {
          "base_uri": "https://localhost:8080/"
        },
        "id": "ktZMsSlTOCy1",
        "outputId": "710488f7-ef23-4114-8194-7c1de2dd3286"
      },
      "execution_count": null,
      "outputs": [
        {
          "output_type": "stream",
          "name": "stdout",
          "text": [
            "Num GPUs Available:  1\n",
            "GPU is available!\n",
            "[PhysicalDevice(name='/physical_device:GPU:0', device_type='GPU')]\n"
          ]
        }
      ]
    },
    {
      "cell_type": "code",
      "source": [
        "# Load your data\n",
        "# Upload your .npy files to Colab first, then load them\n",
        "data = np.load('/content/data_out_pt1.npz')  # Shape: (20000, 32, 32, 3)\n",
        "\n",
        "x_train = data['x_train']\n",
        "y_train = data['y_train']\n",
        "x_test = data['x_test']\n",
        "\n",
        "# Normalize pixel values to [0, 1]\n",
        "x_train = x_train.astype('float32') / 255.0\n",
        "x_test = x_test.astype('float32') / 255.0\n",
        "\n",
        "# Convert labels to categorical (one-hot encoding)\n",
        "num_classes = 10\n",
        "y_train_cat = keras.utils.to_categorical(y_train[:,1], num_classes)\n",
        "\n",
        "print(f\"Training data shape: {x_train.shape}\")\n",
        "print(f\"Training labels shape: {y_train.shape}\")\n",
        "print(f\"Test data shape: {x_test.shape}\")\n",
        "\n"
      ],
      "metadata": {
        "colab": {
          "base_uri": "https://localhost:8080/"
        },
        "id": "PcHdxENWOC9c",
        "outputId": "f30c155b-2708-4628-82c0-168cca69620f"
      },
      "execution_count": null,
      "outputs": [
        {
          "output_type": "stream",
          "name": "stdout",
          "text": [
            "Training data shape: (20000, 28, 28)\n",
            "Training labels shape: (20000, 2)\n",
            "Test data shape: (3000, 28, 28)\n"
          ]
        }
      ]
    },
    {
      "cell_type": "code",
      "source": [
        "from tensorflow.keras.datasets import mnist\n",
        "(x_train, y_train), (x_test, y_test) = mnist.load_data()\n",
        "\n",
        "# reshape to (28, 28, 1) if needed\n",
        "x_train = x_train.reshape(-1, 28, 28, 1)\n",
        "x_test = x_test.reshape(-1, 28, 28, 1)\n",
        "\n",
        "# Normalize pixel values to [0, 1]\n",
        "x_train = x_train.astype('float32') / 255.0\n",
        "x_test = x_test.astype('float32') / 255.0\n",
        "\n",
        "num_classes = 10\n",
        "y_train_cat = keras.utils.to_categorical(y_train, num_classes)\n",
        "\n",
        "print(f\"Training data shape: {x_train.shape}\")\n",
        "print(f\"Training labels shape: {y_train_cat.shape}\")\n",
        "print(f\"Test data shape: {x_test.shape}\")\n"
      ],
      "metadata": {
        "colab": {
          "base_uri": "https://localhost:8080/"
        },
        "id": "qsoM2jk6U1VA",
        "outputId": "be10d718-ec84-4c09-cade-d9e0d3e06cf8"
      },
      "execution_count": null,
      "outputs": [
        {
          "output_type": "stream",
          "name": "stdout",
          "text": [
            "Training data shape: (60000, 28, 28, 1)\n",
            "Training labels shape: (60000, 10)\n",
            "Test data shape: (10000, 28, 28, 1)\n"
          ]
        }
      ]
    },
    {
      "cell_type": "code",
      "source": [
        "# ===== SPLIT INTO TRAIN AND VALIDATION SETS =====\n",
        "from sklearn.model_selection import train_test_split\n",
        "# Split training data: 80% train, 20% validation\n",
        "X_train, X_val, y_train, y_val = train_test_split(\n",
        "    x_train, y_train_cat,\n",
        "    test_size=0.2,\n",
        "    random_state=42\n",
        ")\n",
        "\n",
        "print(y_train.shape)\n",
        "print(x_train.shape)\n",
        "print(x_test.shape)"
      ],
      "metadata": {
        "colab": {
          "base_uri": "https://localhost:8080/"
        },
        "id": "G5WdjxlYODGg",
        "outputId": "6622eeea-7025-4a83-d119-5871858db6f7"
      },
      "execution_count": null,
      "outputs": [
        {
          "output_type": "stream",
          "name": "stdout",
          "text": [
            "(48000, 10)\n",
            "(60000, 28, 28, 1)\n",
            "(10000, 28, 28, 1)\n"
          ]
        }
      ]
    },
    {
      "cell_type": "code",
      "source": [
        "# State of the Art Model\n",
        "# Load required libraries\n",
        "import tensorflow as tf\n",
        "from tensorflow import keras\n",
        "from tensorflow.keras import layers\n",
        "\n",
        "# Define CNN model\n",
        "cnn_model = keras.Sequential()\n",
        "\n",
        "# Add layers one by one\n",
        "cnn_model.add(layers.Conv2D(\n",
        "    filters=32,\n",
        "    kernel_size=3,\n",
        "    activation='relu',\n",
        "    input_shape=(28, 28, 1)\n",
        "))\n",
        "\n",
        "cnn_model.add(layers.MaxPooling2D(pool_size=2))\n",
        "\n",
        "cnn_model.add(layers.Conv2D(\n",
        "    filters=64,\n",
        "    kernel_size=3,\n",
        "    activation='relu'\n",
        "))\n",
        "\n",
        "cnn_model.add(layers.MaxPooling2D(pool_size=2))\n",
        "cnn_model.add(layers.Dropout(rate=0.25))\n",
        "cnn_model.add(layers.Flatten())\n",
        "cnn_model.add(layers.Dense(units=128, activation='relu'))\n",
        "cnn_model.add(layers.Dropout(rate=0.5))\n",
        "cnn_model.add(layers.Dense(units=10, activation='softmax'))\n",
        "\n"
      ],
      "metadata": {
        "id": "UrtgApB8ODTM"
      },
      "execution_count": null,
      "outputs": []
    },
    {
      "cell_type": "code",
      "source": [
        "# State of the Art Model (best model)\n",
        "# Load required libraries\n",
        "import tensorflow as tf\n",
        "from tensorflow import keras\n",
        "from tensorflow.keras import layers\n",
        "\n",
        "# Define CNN model\n",
        "cnn_model = keras.Sequential()\n",
        "\n",
        "# Add layers one by one\n",
        "cnn_model.add(layers.Conv2D(\n",
        "    filters=32,\n",
        "    kernel_size=3,\n",
        "    activation='relu',\n",
        "    input_shape=(28, 28, 1)\n",
        "))\n",
        "\n",
        "cnn_model.add(layers.MaxPooling2D(pool_size=2))\n",
        "cnn_model.add(layers.Conv2D(\n",
        "    filters=64,\n",
        "    kernel_size=3,\n",
        "    activation='relu'\n",
        "))\n",
        "cnn_model.add(layers.Dropout(rate=0.5))\n",
        "cnn_model.add(layers.BatchNormalization())\n",
        "\n",
        "\n",
        "cnn_model.add(layers.Conv2D(\n",
        "    filters=96,\n",
        "    kernel_size=3,\n",
        "    activation='relu'\n",
        "))\n",
        "cnn_model.add(layers.Dropout(rate=0.5))\n",
        "cnn_model.add(layers.BatchNormalization())\n",
        "\n",
        "cnn_model.add(layers.Conv2D(\n",
        "    filters=96,\n",
        "    kernel_size=3,\n",
        "    activation='relu'\n",
        "))\n",
        "cnn_model.add(layers.Dropout(rate=0.5))\n",
        "\n",
        "cnn_model.add(layers.MaxPooling2D(pool_size=2))\n",
        "cnn_model.add(layers.Dropout(rate=0.5))\n",
        "cnn_model.add(layers.Flatten())\n",
        "cnn_model.add(layers.Dense(units=128, activation='relu'))\n",
        "cnn_model.add(layers.Dropout(rate=0.5))\n",
        "cnn_model.add(layers.Dense(units=10, activation='softmax'))"
      ],
      "metadata": {
        "id": "SWFuC5XtO-Mq"
      },
      "execution_count": null,
      "outputs": []
    },
    {
      "cell_type": "code",
      "source": [
        "# State of the Art Model\n",
        "# Load required libraries\n",
        "import tensorflow as tf\n",
        "from tensorflow import keras\n",
        "from tensorflow.keras import layers\n",
        "\n",
        "# Define CNN model\n",
        "cnn_model = keras.Sequential()\n",
        "\n",
        "# Add layers one by one\n",
        "cnn_model.add(layers.Conv2D(\n",
        "    filters=32,\n",
        "    kernel_size=3,\n",
        "    activation='relu',\n",
        "    input_shape=(28, 28, 1)\n",
        "))\n",
        "cnn_model.add(layers.Dropout(rate=0.25))\n",
        "\n",
        "cnn_model.add(layers.MaxPooling2D(pool_size=2))\n",
        "\n",
        "cnn_model.add(layers.BatchNormalization())\n",
        "cnn_model.add(layers.Conv2D(\n",
        "    filters=64,\n",
        "    kernel_size=5,\n",
        "    activation='relu'\n",
        "))\n",
        "\n",
        "cnn_model.add(layers.BatchNormalization())\n",
        "cnn_model.add(layers.Conv2D(\n",
        "    filters=96,\n",
        "    kernel_size=5,\n",
        "    activation='relu'\n",
        "))\n",
        "cnn_model.add(layers.Dropout(rate=0.5))\n",
        "\n",
        "cnn_model.add(layers.MaxPooling2D(pool_size=2))\n",
        "cnn_model.add(layers.Dropout(rate=0.5))\n",
        "cnn_model.add(layers.Flatten())\n",
        "cnn_model.add(layers.Dense(units=256, activation='relu'))\n",
        "cnn_model.add(layers.Dropout(rate=0.5))\n",
        "cnn_model.add(layers.Dense(units=10, activation='softmax'))\n",
        "\n"
      ],
      "metadata": {
        "id": "uSPYQOHHiVVH"
      },
      "execution_count": null,
      "outputs": []
    },
    {
      "cell_type": "code",
      "source": [
        "cnn_model.summary()"
      ],
      "metadata": {
        "colab": {
          "base_uri": "https://localhost:8080/",
          "height": 689
        },
        "id": "fDiAJwlIODbT",
        "outputId": "7b6f0abe-c7e9-4655-bda1-d8406f3b44c1"
      },
      "execution_count": null,
      "outputs": [
        {
          "output_type": "display_data",
          "data": {
            "text/plain": [
              "\u001b[1mModel: \"sequential_43\"\u001b[0m\n"
            ],
            "text/html": [
              "<pre style=\"white-space:pre;overflow-x:auto;line-height:normal;font-family:Menlo,'DejaVu Sans Mono',consolas,'Courier New',monospace\"><span style=\"font-weight: bold\">Model: \"sequential_43\"</span>\n",
              "</pre>\n"
            ]
          },
          "metadata": {}
        },
        {
          "output_type": "display_data",
          "data": {
            "text/plain": [
              "┏━━━━━━━━━━━━━━━━━━━━━━━━━━━━━━━━━┳━━━━━━━━━━━━━━━━━━━━━━━━┳━━━━━━━━━━━━━━━┓\n",
              "┃\u001b[1m \u001b[0m\u001b[1mLayer (type)                   \u001b[0m\u001b[1m \u001b[0m┃\u001b[1m \u001b[0m\u001b[1mOutput Shape          \u001b[0m\u001b[1m \u001b[0m┃\u001b[1m \u001b[0m\u001b[1m      Param #\u001b[0m\u001b[1m \u001b[0m┃\n",
              "┡━━━━━━━━━━━━━━━━━━━━━━━━━━━━━━━━━╇━━━━━━━━━━━━━━━━━━━━━━━━╇━━━━━━━━━━━━━━━┩\n",
              "│ conv2d_130 (\u001b[38;5;33mConv2D\u001b[0m)             │ (\u001b[38;5;45mNone\u001b[0m, \u001b[38;5;34m26\u001b[0m, \u001b[38;5;34m26\u001b[0m, \u001b[38;5;34m32\u001b[0m)     │           \u001b[38;5;34m320\u001b[0m │\n",
              "├─────────────────────────────────┼────────────────────────┼───────────────┤\n",
              "│ max_pooling2d_88 (\u001b[38;5;33mMaxPooling2D\u001b[0m) │ (\u001b[38;5;45mNone\u001b[0m, \u001b[38;5;34m13\u001b[0m, \u001b[38;5;34m13\u001b[0m, \u001b[38;5;34m32\u001b[0m)     │             \u001b[38;5;34m0\u001b[0m │\n",
              "├─────────────────────────────────┼────────────────────────┼───────────────┤\n",
              "│ conv2d_131 (\u001b[38;5;33mConv2D\u001b[0m)             │ (\u001b[38;5;45mNone\u001b[0m, \u001b[38;5;34m11\u001b[0m, \u001b[38;5;34m11\u001b[0m, \u001b[38;5;34m64\u001b[0m)     │        \u001b[38;5;34m18,496\u001b[0m │\n",
              "├─────────────────────────────────┼────────────────────────┼───────────────┤\n",
              "│ dropout_126 (\u001b[38;5;33mDropout\u001b[0m)           │ (\u001b[38;5;45mNone\u001b[0m, \u001b[38;5;34m11\u001b[0m, \u001b[38;5;34m11\u001b[0m, \u001b[38;5;34m64\u001b[0m)     │             \u001b[38;5;34m0\u001b[0m │\n",
              "├─────────────────────────────────┼────────────────────────┼───────────────┤\n",
              "│ batch_normalization_45          │ (\u001b[38;5;45mNone\u001b[0m, \u001b[38;5;34m11\u001b[0m, \u001b[38;5;34m11\u001b[0m, \u001b[38;5;34m64\u001b[0m)     │           \u001b[38;5;34m256\u001b[0m │\n",
              "│ (\u001b[38;5;33mBatchNormalization\u001b[0m)            │                        │               │\n",
              "├─────────────────────────────────┼────────────────────────┼───────────────┤\n",
              "│ conv2d_132 (\u001b[38;5;33mConv2D\u001b[0m)             │ (\u001b[38;5;45mNone\u001b[0m, \u001b[38;5;34m9\u001b[0m, \u001b[38;5;34m9\u001b[0m, \u001b[38;5;34m96\u001b[0m)       │        \u001b[38;5;34m55,392\u001b[0m │\n",
              "├─────────────────────────────────┼────────────────────────┼───────────────┤\n",
              "│ dropout_127 (\u001b[38;5;33mDropout\u001b[0m)           │ (\u001b[38;5;45mNone\u001b[0m, \u001b[38;5;34m9\u001b[0m, \u001b[38;5;34m9\u001b[0m, \u001b[38;5;34m96\u001b[0m)       │             \u001b[38;5;34m0\u001b[0m │\n",
              "├─────────────────────────────────┼────────────────────────┼───────────────┤\n",
              "│ batch_normalization_46          │ (\u001b[38;5;45mNone\u001b[0m, \u001b[38;5;34m9\u001b[0m, \u001b[38;5;34m9\u001b[0m, \u001b[38;5;34m96\u001b[0m)       │           \u001b[38;5;34m384\u001b[0m │\n",
              "│ (\u001b[38;5;33mBatchNormalization\u001b[0m)            │                        │               │\n",
              "├─────────────────────────────────┼────────────────────────┼───────────────┤\n",
              "│ conv2d_133 (\u001b[38;5;33mConv2D\u001b[0m)             │ (\u001b[38;5;45mNone\u001b[0m, \u001b[38;5;34m7\u001b[0m, \u001b[38;5;34m7\u001b[0m, \u001b[38;5;34m96\u001b[0m)       │        \u001b[38;5;34m83,040\u001b[0m │\n",
              "├─────────────────────────────────┼────────────────────────┼───────────────┤\n",
              "│ dropout_128 (\u001b[38;5;33mDropout\u001b[0m)           │ (\u001b[38;5;45mNone\u001b[0m, \u001b[38;5;34m7\u001b[0m, \u001b[38;5;34m7\u001b[0m, \u001b[38;5;34m96\u001b[0m)       │             \u001b[38;5;34m0\u001b[0m │\n",
              "├─────────────────────────────────┼────────────────────────┼───────────────┤\n",
              "│ max_pooling2d_89 (\u001b[38;5;33mMaxPooling2D\u001b[0m) │ (\u001b[38;5;45mNone\u001b[0m, \u001b[38;5;34m3\u001b[0m, \u001b[38;5;34m3\u001b[0m, \u001b[38;5;34m96\u001b[0m)       │             \u001b[38;5;34m0\u001b[0m │\n",
              "├─────────────────────────────────┼────────────────────────┼───────────────┤\n",
              "│ dropout_129 (\u001b[38;5;33mDropout\u001b[0m)           │ (\u001b[38;5;45mNone\u001b[0m, \u001b[38;5;34m3\u001b[0m, \u001b[38;5;34m3\u001b[0m, \u001b[38;5;34m96\u001b[0m)       │             \u001b[38;5;34m0\u001b[0m │\n",
              "├─────────────────────────────────┼────────────────────────┼───────────────┤\n",
              "│ flatten_43 (\u001b[38;5;33mFlatten\u001b[0m)            │ (\u001b[38;5;45mNone\u001b[0m, \u001b[38;5;34m864\u001b[0m)            │             \u001b[38;5;34m0\u001b[0m │\n",
              "├─────────────────────────────────┼────────────────────────┼───────────────┤\n",
              "│ dense_86 (\u001b[38;5;33mDense\u001b[0m)                │ (\u001b[38;5;45mNone\u001b[0m, \u001b[38;5;34m128\u001b[0m)            │       \u001b[38;5;34m110,720\u001b[0m │\n",
              "├─────────────────────────────────┼────────────────────────┼───────────────┤\n",
              "│ dropout_130 (\u001b[38;5;33mDropout\u001b[0m)           │ (\u001b[38;5;45mNone\u001b[0m, \u001b[38;5;34m128\u001b[0m)            │             \u001b[38;5;34m0\u001b[0m │\n",
              "├─────────────────────────────────┼────────────────────────┼───────────────┤\n",
              "│ dense_87 (\u001b[38;5;33mDense\u001b[0m)                │ (\u001b[38;5;45mNone\u001b[0m, \u001b[38;5;34m10\u001b[0m)             │         \u001b[38;5;34m1,290\u001b[0m │\n",
              "└─────────────────────────────────┴────────────────────────┴───────────────┘\n"
            ],
            "text/html": [
              "<pre style=\"white-space:pre;overflow-x:auto;line-height:normal;font-family:Menlo,'DejaVu Sans Mono',consolas,'Courier New',monospace\">┏━━━━━━━━━━━━━━━━━━━━━━━━━━━━━━━━━┳━━━━━━━━━━━━━━━━━━━━━━━━┳━━━━━━━━━━━━━━━┓\n",
              "┃<span style=\"font-weight: bold\"> Layer (type)                    </span>┃<span style=\"font-weight: bold\"> Output Shape           </span>┃<span style=\"font-weight: bold\">       Param # </span>┃\n",
              "┡━━━━━━━━━━━━━━━━━━━━━━━━━━━━━━━━━╇━━━━━━━━━━━━━━━━━━━━━━━━╇━━━━━━━━━━━━━━━┩\n",
              "│ conv2d_130 (<span style=\"color: #0087ff; text-decoration-color: #0087ff\">Conv2D</span>)             │ (<span style=\"color: #00d7ff; text-decoration-color: #00d7ff\">None</span>, <span style=\"color: #00af00; text-decoration-color: #00af00\">26</span>, <span style=\"color: #00af00; text-decoration-color: #00af00\">26</span>, <span style=\"color: #00af00; text-decoration-color: #00af00\">32</span>)     │           <span style=\"color: #00af00; text-decoration-color: #00af00\">320</span> │\n",
              "├─────────────────────────────────┼────────────────────────┼───────────────┤\n",
              "│ max_pooling2d_88 (<span style=\"color: #0087ff; text-decoration-color: #0087ff\">MaxPooling2D</span>) │ (<span style=\"color: #00d7ff; text-decoration-color: #00d7ff\">None</span>, <span style=\"color: #00af00; text-decoration-color: #00af00\">13</span>, <span style=\"color: #00af00; text-decoration-color: #00af00\">13</span>, <span style=\"color: #00af00; text-decoration-color: #00af00\">32</span>)     │             <span style=\"color: #00af00; text-decoration-color: #00af00\">0</span> │\n",
              "├─────────────────────────────────┼────────────────────────┼───────────────┤\n",
              "│ conv2d_131 (<span style=\"color: #0087ff; text-decoration-color: #0087ff\">Conv2D</span>)             │ (<span style=\"color: #00d7ff; text-decoration-color: #00d7ff\">None</span>, <span style=\"color: #00af00; text-decoration-color: #00af00\">11</span>, <span style=\"color: #00af00; text-decoration-color: #00af00\">11</span>, <span style=\"color: #00af00; text-decoration-color: #00af00\">64</span>)     │        <span style=\"color: #00af00; text-decoration-color: #00af00\">18,496</span> │\n",
              "├─────────────────────────────────┼────────────────────────┼───────────────┤\n",
              "│ dropout_126 (<span style=\"color: #0087ff; text-decoration-color: #0087ff\">Dropout</span>)           │ (<span style=\"color: #00d7ff; text-decoration-color: #00d7ff\">None</span>, <span style=\"color: #00af00; text-decoration-color: #00af00\">11</span>, <span style=\"color: #00af00; text-decoration-color: #00af00\">11</span>, <span style=\"color: #00af00; text-decoration-color: #00af00\">64</span>)     │             <span style=\"color: #00af00; text-decoration-color: #00af00\">0</span> │\n",
              "├─────────────────────────────────┼────────────────────────┼───────────────┤\n",
              "│ batch_normalization_45          │ (<span style=\"color: #00d7ff; text-decoration-color: #00d7ff\">None</span>, <span style=\"color: #00af00; text-decoration-color: #00af00\">11</span>, <span style=\"color: #00af00; text-decoration-color: #00af00\">11</span>, <span style=\"color: #00af00; text-decoration-color: #00af00\">64</span>)     │           <span style=\"color: #00af00; text-decoration-color: #00af00\">256</span> │\n",
              "│ (<span style=\"color: #0087ff; text-decoration-color: #0087ff\">BatchNormalization</span>)            │                        │               │\n",
              "├─────────────────────────────────┼────────────────────────┼───────────────┤\n",
              "│ conv2d_132 (<span style=\"color: #0087ff; text-decoration-color: #0087ff\">Conv2D</span>)             │ (<span style=\"color: #00d7ff; text-decoration-color: #00d7ff\">None</span>, <span style=\"color: #00af00; text-decoration-color: #00af00\">9</span>, <span style=\"color: #00af00; text-decoration-color: #00af00\">9</span>, <span style=\"color: #00af00; text-decoration-color: #00af00\">96</span>)       │        <span style=\"color: #00af00; text-decoration-color: #00af00\">55,392</span> │\n",
              "├─────────────────────────────────┼────────────────────────┼───────────────┤\n",
              "│ dropout_127 (<span style=\"color: #0087ff; text-decoration-color: #0087ff\">Dropout</span>)           │ (<span style=\"color: #00d7ff; text-decoration-color: #00d7ff\">None</span>, <span style=\"color: #00af00; text-decoration-color: #00af00\">9</span>, <span style=\"color: #00af00; text-decoration-color: #00af00\">9</span>, <span style=\"color: #00af00; text-decoration-color: #00af00\">96</span>)       │             <span style=\"color: #00af00; text-decoration-color: #00af00\">0</span> │\n",
              "├─────────────────────────────────┼────────────────────────┼───────────────┤\n",
              "│ batch_normalization_46          │ (<span style=\"color: #00d7ff; text-decoration-color: #00d7ff\">None</span>, <span style=\"color: #00af00; text-decoration-color: #00af00\">9</span>, <span style=\"color: #00af00; text-decoration-color: #00af00\">9</span>, <span style=\"color: #00af00; text-decoration-color: #00af00\">96</span>)       │           <span style=\"color: #00af00; text-decoration-color: #00af00\">384</span> │\n",
              "│ (<span style=\"color: #0087ff; text-decoration-color: #0087ff\">BatchNormalization</span>)            │                        │               │\n",
              "├─────────────────────────────────┼────────────────────────┼───────────────┤\n",
              "│ conv2d_133 (<span style=\"color: #0087ff; text-decoration-color: #0087ff\">Conv2D</span>)             │ (<span style=\"color: #00d7ff; text-decoration-color: #00d7ff\">None</span>, <span style=\"color: #00af00; text-decoration-color: #00af00\">7</span>, <span style=\"color: #00af00; text-decoration-color: #00af00\">7</span>, <span style=\"color: #00af00; text-decoration-color: #00af00\">96</span>)       │        <span style=\"color: #00af00; text-decoration-color: #00af00\">83,040</span> │\n",
              "├─────────────────────────────────┼────────────────────────┼───────────────┤\n",
              "│ dropout_128 (<span style=\"color: #0087ff; text-decoration-color: #0087ff\">Dropout</span>)           │ (<span style=\"color: #00d7ff; text-decoration-color: #00d7ff\">None</span>, <span style=\"color: #00af00; text-decoration-color: #00af00\">7</span>, <span style=\"color: #00af00; text-decoration-color: #00af00\">7</span>, <span style=\"color: #00af00; text-decoration-color: #00af00\">96</span>)       │             <span style=\"color: #00af00; text-decoration-color: #00af00\">0</span> │\n",
              "├─────────────────────────────────┼────────────────────────┼───────────────┤\n",
              "│ max_pooling2d_89 (<span style=\"color: #0087ff; text-decoration-color: #0087ff\">MaxPooling2D</span>) │ (<span style=\"color: #00d7ff; text-decoration-color: #00d7ff\">None</span>, <span style=\"color: #00af00; text-decoration-color: #00af00\">3</span>, <span style=\"color: #00af00; text-decoration-color: #00af00\">3</span>, <span style=\"color: #00af00; text-decoration-color: #00af00\">96</span>)       │             <span style=\"color: #00af00; text-decoration-color: #00af00\">0</span> │\n",
              "├─────────────────────────────────┼────────────────────────┼───────────────┤\n",
              "│ dropout_129 (<span style=\"color: #0087ff; text-decoration-color: #0087ff\">Dropout</span>)           │ (<span style=\"color: #00d7ff; text-decoration-color: #00d7ff\">None</span>, <span style=\"color: #00af00; text-decoration-color: #00af00\">3</span>, <span style=\"color: #00af00; text-decoration-color: #00af00\">3</span>, <span style=\"color: #00af00; text-decoration-color: #00af00\">96</span>)       │             <span style=\"color: #00af00; text-decoration-color: #00af00\">0</span> │\n",
              "├─────────────────────────────────┼────────────────────────┼───────────────┤\n",
              "│ flatten_43 (<span style=\"color: #0087ff; text-decoration-color: #0087ff\">Flatten</span>)            │ (<span style=\"color: #00d7ff; text-decoration-color: #00d7ff\">None</span>, <span style=\"color: #00af00; text-decoration-color: #00af00\">864</span>)            │             <span style=\"color: #00af00; text-decoration-color: #00af00\">0</span> │\n",
              "├─────────────────────────────────┼────────────────────────┼───────────────┤\n",
              "│ dense_86 (<span style=\"color: #0087ff; text-decoration-color: #0087ff\">Dense</span>)                │ (<span style=\"color: #00d7ff; text-decoration-color: #00d7ff\">None</span>, <span style=\"color: #00af00; text-decoration-color: #00af00\">128</span>)            │       <span style=\"color: #00af00; text-decoration-color: #00af00\">110,720</span> │\n",
              "├─────────────────────────────────┼────────────────────────┼───────────────┤\n",
              "│ dropout_130 (<span style=\"color: #0087ff; text-decoration-color: #0087ff\">Dropout</span>)           │ (<span style=\"color: #00d7ff; text-decoration-color: #00d7ff\">None</span>, <span style=\"color: #00af00; text-decoration-color: #00af00\">128</span>)            │             <span style=\"color: #00af00; text-decoration-color: #00af00\">0</span> │\n",
              "├─────────────────────────────────┼────────────────────────┼───────────────┤\n",
              "│ dense_87 (<span style=\"color: #0087ff; text-decoration-color: #0087ff\">Dense</span>)                │ (<span style=\"color: #00d7ff; text-decoration-color: #00d7ff\">None</span>, <span style=\"color: #00af00; text-decoration-color: #00af00\">10</span>)             │         <span style=\"color: #00af00; text-decoration-color: #00af00\">1,290</span> │\n",
              "└─────────────────────────────────┴────────────────────────┴───────────────┘\n",
              "</pre>\n"
            ]
          },
          "metadata": {}
        },
        {
          "output_type": "display_data",
          "data": {
            "text/plain": [
              "\u001b[1m Total params: \u001b[0m\u001b[38;5;34m269,898\u001b[0m (1.03 MB)\n"
            ],
            "text/html": [
              "<pre style=\"white-space:pre;overflow-x:auto;line-height:normal;font-family:Menlo,'DejaVu Sans Mono',consolas,'Courier New',monospace\"><span style=\"font-weight: bold\"> Total params: </span><span style=\"color: #00af00; text-decoration-color: #00af00\">269,898</span> (1.03 MB)\n",
              "</pre>\n"
            ]
          },
          "metadata": {}
        },
        {
          "output_type": "display_data",
          "data": {
            "text/plain": [
              "\u001b[1m Trainable params: \u001b[0m\u001b[38;5;34m269,578\u001b[0m (1.03 MB)\n"
            ],
            "text/html": [
              "<pre style=\"white-space:pre;overflow-x:auto;line-height:normal;font-family:Menlo,'DejaVu Sans Mono',consolas,'Courier New',monospace\"><span style=\"font-weight: bold\"> Trainable params: </span><span style=\"color: #00af00; text-decoration-color: #00af00\">269,578</span> (1.03 MB)\n",
              "</pre>\n"
            ]
          },
          "metadata": {}
        },
        {
          "output_type": "display_data",
          "data": {
            "text/plain": [
              "\u001b[1m Non-trainable params: \u001b[0m\u001b[38;5;34m320\u001b[0m (1.25 KB)\n"
            ],
            "text/html": [
              "<pre style=\"white-space:pre;overflow-x:auto;line-height:normal;font-family:Menlo,'DejaVu Sans Mono',consolas,'Courier New',monospace\"><span style=\"font-weight: bold\"> Non-trainable params: </span><span style=\"color: #00af00; text-decoration-color: #00af00\">320</span> (1.25 KB)\n",
              "</pre>\n"
            ]
          },
          "metadata": {}
        }
      ]
    },
    {
      "cell_type": "code",
      "source": [
        "from functools import reduce\n",
        "from tensorflow.keras.callbacks import EarlyStopping, ReduceLROnPlateau\n",
        "\n",
        "cnn_model.compile(loss='categorical_crossentropy',\n",
        "                  optimizer='adam',\n",
        "                  metrics=['accuracy'])\n",
        "\n",
        "early_stopping = [keras.callbacks.EarlyStopping(\n",
        "    patience=20,\n",
        "    restore_best_weights=True,\n",
        "),\n",
        "ReduceLROnPlateau(\n",
        "    factor=0.5,\n",
        "    patience=3,\n",
        "    min_lr=1e-6\n",
        ")]"
      ],
      "metadata": {
        "id": "1w7MyB1nPYgK"
      },
      "execution_count": null,
      "outputs": []
    },
    {
      "cell_type": "code",
      "source": [
        "## Fitting the model\n",
        "r = cnn_model.fit(X_train, y_train,\n",
        "              batch_size=64,\n",
        "              epochs=150,\n",
        "              validation_data=(X_val, y_val),\n",
        "              verbose = 1,\n",
        "              callbacks=early_stopping\n",
        "             )"
      ],
      "metadata": {
        "colab": {
          "base_uri": "https://localhost:8080/"
        },
        "id": "Jo_Ad-pLODnP",
        "outputId": "5ab0eda3-ccd6-4f54-9711-74ac520d80bd"
      },
      "execution_count": null,
      "outputs": [
        {
          "output_type": "stream",
          "name": "stdout",
          "text": [
            "Epoch 1/150\n",
            "\u001b[1m750/750\u001b[0m \u001b[32m━━━━━━━━━━━━━━━━━━━━\u001b[0m\u001b[37m\u001b[0m \u001b[1m13s\u001b[0m 6ms/step - accuracy: 0.4774 - loss: 1.7812 - val_accuracy: 0.9507 - val_loss: 0.2185 - learning_rate: 0.0010\n",
            "Epoch 2/150\n",
            "\u001b[1m750/750\u001b[0m \u001b[32m━━━━━━━━━━━━━━━━━━━━\u001b[0m\u001b[37m\u001b[0m \u001b[1m3s\u001b[0m 4ms/step - accuracy: 0.9073 - loss: 0.3117 - val_accuracy: 0.9718 - val_loss: 0.1026 - learning_rate: 0.0010\n",
            "Epoch 3/150\n",
            "\u001b[1m750/750\u001b[0m \u001b[32m━━━━━━━━━━━━━━━━━━━━\u001b[0m\u001b[37m\u001b[0m \u001b[1m3s\u001b[0m 4ms/step - accuracy: 0.9433 - loss: 0.1940 - val_accuracy: 0.9810 - val_loss: 0.0688 - learning_rate: 0.0010\n",
            "Epoch 4/150\n",
            "\u001b[1m750/750\u001b[0m \u001b[32m━━━━━━━━━━━━━━━━━━━━\u001b[0m\u001b[37m\u001b[0m \u001b[1m3s\u001b[0m 4ms/step - accuracy: 0.9528 - loss: 0.1655 - val_accuracy: 0.9817 - val_loss: 0.0721 - learning_rate: 0.0010\n",
            "Epoch 5/150\n",
            "\u001b[1m750/750\u001b[0m \u001b[32m━━━━━━━━━━━━━━━━━━━━\u001b[0m\u001b[37m\u001b[0m \u001b[1m3s\u001b[0m 4ms/step - accuracy: 0.9613 - loss: 0.1406 - val_accuracy: 0.9827 - val_loss: 0.0601 - learning_rate: 0.0010\n",
            "Epoch 6/150\n",
            "\u001b[1m750/750\u001b[0m \u001b[32m━━━━━━━━━━━━━━━━━━━━\u001b[0m\u001b[37m\u001b[0m \u001b[1m3s\u001b[0m 4ms/step - accuracy: 0.9636 - loss: 0.1268 - val_accuracy: 0.9854 - val_loss: 0.0458 - learning_rate: 0.0010\n",
            "Epoch 7/150\n",
            "\u001b[1m750/750\u001b[0m \u001b[32m━━━━━━━━━━━━━━━━━━━━\u001b[0m\u001b[37m\u001b[0m \u001b[1m3s\u001b[0m 4ms/step - accuracy: 0.9672 - loss: 0.1149 - val_accuracy: 0.9885 - val_loss: 0.0427 - learning_rate: 0.0010\n",
            "Epoch 8/150\n",
            "\u001b[1m750/750\u001b[0m \u001b[32m━━━━━━━━━━━━━━━━━━━━\u001b[0m\u001b[37m\u001b[0m \u001b[1m3s\u001b[0m 4ms/step - accuracy: 0.9720 - loss: 0.0978 - val_accuracy: 0.9854 - val_loss: 0.0516 - learning_rate: 0.0010\n",
            "Epoch 9/150\n",
            "\u001b[1m750/750\u001b[0m \u001b[32m━━━━━━━━━━━━━━━━━━━━\u001b[0m\u001b[37m\u001b[0m \u001b[1m3s\u001b[0m 4ms/step - accuracy: 0.9701 - loss: 0.1100 - val_accuracy: 0.9889 - val_loss: 0.0425 - learning_rate: 0.0010\n",
            "Epoch 10/150\n",
            "\u001b[1m750/750\u001b[0m \u001b[32m━━━━━━━━━━━━━━━━━━━━\u001b[0m\u001b[37m\u001b[0m \u001b[1m3s\u001b[0m 4ms/step - accuracy: 0.9756 - loss: 0.0858 - val_accuracy: 0.9862 - val_loss: 0.0532 - learning_rate: 0.0010\n",
            "Epoch 11/150\n",
            "\u001b[1m750/750\u001b[0m \u001b[32m━━━━━━━━━━━━━━━━━━━━\u001b[0m\u001b[37m\u001b[0m \u001b[1m3s\u001b[0m 4ms/step - accuracy: 0.9744 - loss: 0.0930 - val_accuracy: 0.9883 - val_loss: 0.0391 - learning_rate: 0.0010\n",
            "Epoch 12/150\n",
            "\u001b[1m750/750\u001b[0m \u001b[32m━━━━━━━━━━━━━━━━━━━━\u001b[0m\u001b[37m\u001b[0m \u001b[1m3s\u001b[0m 4ms/step - accuracy: 0.9766 - loss: 0.0835 - val_accuracy: 0.9896 - val_loss: 0.0371 - learning_rate: 0.0010\n",
            "Epoch 13/150\n",
            "\u001b[1m750/750\u001b[0m \u001b[32m━━━━━━━━━━━━━━━━━━━━\u001b[0m\u001b[37m\u001b[0m \u001b[1m3s\u001b[0m 4ms/step - accuracy: 0.9784 - loss: 0.0813 - val_accuracy: 0.9878 - val_loss: 0.0430 - learning_rate: 0.0010\n",
            "Epoch 14/150\n",
            "\u001b[1m750/750\u001b[0m \u001b[32m━━━━━━━━━━━━━━━━━━━━\u001b[0m\u001b[37m\u001b[0m \u001b[1m3s\u001b[0m 4ms/step - accuracy: 0.9783 - loss: 0.0817 - val_accuracy: 0.9900 - val_loss: 0.0341 - learning_rate: 0.0010\n",
            "Epoch 15/150\n",
            "\u001b[1m750/750\u001b[0m \u001b[32m━━━━━━━━━━━━━━━━━━━━\u001b[0m\u001b[37m\u001b[0m \u001b[1m3s\u001b[0m 4ms/step - accuracy: 0.9795 - loss: 0.0712 - val_accuracy: 0.9905 - val_loss: 0.0318 - learning_rate: 0.0010\n",
            "Epoch 16/150\n",
            "\u001b[1m750/750\u001b[0m \u001b[32m━━━━━━━━━━━━━━━━━━━━\u001b[0m\u001b[37m\u001b[0m \u001b[1m3s\u001b[0m 4ms/step - accuracy: 0.9797 - loss: 0.0778 - val_accuracy: 0.9901 - val_loss: 0.0347 - learning_rate: 0.0010\n",
            "Epoch 17/150\n",
            "\u001b[1m750/750\u001b[0m \u001b[32m━━━━━━━━━━━━━━━━━━━━\u001b[0m\u001b[37m\u001b[0m \u001b[1m3s\u001b[0m 4ms/step - accuracy: 0.9799 - loss: 0.0721 - val_accuracy: 0.9902 - val_loss: 0.0350 - learning_rate: 0.0010\n",
            "Epoch 18/150\n",
            "\u001b[1m750/750\u001b[0m \u001b[32m━━━━━━━━━━━━━━━━━━━━\u001b[0m\u001b[37m\u001b[0m \u001b[1m3s\u001b[0m 4ms/step - accuracy: 0.9806 - loss: 0.0739 - val_accuracy: 0.9894 - val_loss: 0.0338 - learning_rate: 0.0010\n",
            "Epoch 19/150\n",
            "\u001b[1m750/750\u001b[0m \u001b[32m━━━━━━━━━━━━━━━━━━━━\u001b[0m\u001b[37m\u001b[0m \u001b[1m3s\u001b[0m 4ms/step - accuracy: 0.9824 - loss: 0.0625 - val_accuracy: 0.9915 - val_loss: 0.0278 - learning_rate: 5.0000e-04\n",
            "Epoch 20/150\n",
            "\u001b[1m750/750\u001b[0m \u001b[32m━━━━━━━━━━━━━━━━━━━━\u001b[0m\u001b[37m\u001b[0m \u001b[1m3s\u001b[0m 4ms/step - accuracy: 0.9848 - loss: 0.0568 - val_accuracy: 0.9925 - val_loss: 0.0261 - learning_rate: 5.0000e-04\n",
            "Epoch 21/150\n",
            "\u001b[1m750/750\u001b[0m \u001b[32m━━━━━━━━━━━━━━━━━━━━\u001b[0m\u001b[37m\u001b[0m \u001b[1m3s\u001b[0m 4ms/step - accuracy: 0.9847 - loss: 0.0550 - val_accuracy: 0.9919 - val_loss: 0.0277 - learning_rate: 5.0000e-04\n",
            "Epoch 22/150\n",
            "\u001b[1m750/750\u001b[0m \u001b[32m━━━━━━━━━━━━━━━━━━━━\u001b[0m\u001b[37m\u001b[0m \u001b[1m3s\u001b[0m 4ms/step - accuracy: 0.9859 - loss: 0.0518 - val_accuracy: 0.9918 - val_loss: 0.0282 - learning_rate: 5.0000e-04\n",
            "Epoch 23/150\n",
            "\u001b[1m750/750\u001b[0m \u001b[32m━━━━━━━━━━━━━━━━━━━━\u001b[0m\u001b[37m\u001b[0m \u001b[1m3s\u001b[0m 4ms/step - accuracy: 0.9868 - loss: 0.0471 - val_accuracy: 0.9927 - val_loss: 0.0251 - learning_rate: 5.0000e-04\n",
            "Epoch 24/150\n",
            "\u001b[1m750/750\u001b[0m \u001b[32m━━━━━━━━━━━━━━━━━━━━\u001b[0m\u001b[37m\u001b[0m \u001b[1m3s\u001b[0m 4ms/step - accuracy: 0.9866 - loss: 0.0487 - val_accuracy: 0.9926 - val_loss: 0.0263 - learning_rate: 5.0000e-04\n",
            "Epoch 25/150\n",
            "\u001b[1m750/750\u001b[0m \u001b[32m━━━━━━━━━━━━━━━━━━━━\u001b[0m\u001b[37m\u001b[0m \u001b[1m3s\u001b[0m 4ms/step - accuracy: 0.9881 - loss: 0.0453 - val_accuracy: 0.9930 - val_loss: 0.0268 - learning_rate: 5.0000e-04\n",
            "Epoch 26/150\n",
            "\u001b[1m750/750\u001b[0m \u001b[32m━━━━━━━━━━━━━━━━━━━━\u001b[0m\u001b[37m\u001b[0m \u001b[1m3s\u001b[0m 4ms/step - accuracy: 0.9862 - loss: 0.0452 - val_accuracy: 0.9933 - val_loss: 0.0258 - learning_rate: 5.0000e-04\n",
            "Epoch 27/150\n",
            "\u001b[1m750/750\u001b[0m \u001b[32m━━━━━━━━━━━━━━━━━━━━\u001b[0m\u001b[37m\u001b[0m \u001b[1m3s\u001b[0m 4ms/step - accuracy: 0.9884 - loss: 0.0427 - val_accuracy: 0.9936 - val_loss: 0.0237 - learning_rate: 2.5000e-04\n",
            "Epoch 28/150\n",
            "\u001b[1m750/750\u001b[0m \u001b[32m━━━━━━━━━━━━━━━━━━━━\u001b[0m\u001b[37m\u001b[0m \u001b[1m3s\u001b[0m 4ms/step - accuracy: 0.9896 - loss: 0.0409 - val_accuracy: 0.9932 - val_loss: 0.0243 - learning_rate: 2.5000e-04\n",
            "Epoch 29/150\n",
            "\u001b[1m750/750\u001b[0m \u001b[32m━━━━━━━━━━━━━━━━━━━━\u001b[0m\u001b[37m\u001b[0m \u001b[1m3s\u001b[0m 4ms/step - accuracy: 0.9885 - loss: 0.0389 - val_accuracy: 0.9935 - val_loss: 0.0233 - learning_rate: 2.5000e-04\n",
            "Epoch 30/150\n",
            "\u001b[1m750/750\u001b[0m \u001b[32m━━━━━━━━━━━━━━━━━━━━\u001b[0m\u001b[37m\u001b[0m \u001b[1m3s\u001b[0m 4ms/step - accuracy: 0.9890 - loss: 0.0383 - val_accuracy: 0.9930 - val_loss: 0.0246 - learning_rate: 2.5000e-04\n",
            "Epoch 31/150\n",
            "\u001b[1m750/750\u001b[0m \u001b[32m━━━━━━━━━━━━━━━━━━━━\u001b[0m\u001b[37m\u001b[0m \u001b[1m3s\u001b[0m 4ms/step - accuracy: 0.9886 - loss: 0.0404 - val_accuracy: 0.9939 - val_loss: 0.0228 - learning_rate: 2.5000e-04\n",
            "Epoch 32/150\n",
            "\u001b[1m750/750\u001b[0m \u001b[32m━━━━━━━━━━━━━━━━━━━━\u001b[0m\u001b[37m\u001b[0m \u001b[1m3s\u001b[0m 4ms/step - accuracy: 0.9895 - loss: 0.0354 - val_accuracy: 0.9935 - val_loss: 0.0231 - learning_rate: 2.5000e-04\n",
            "Epoch 33/150\n",
            "\u001b[1m750/750\u001b[0m \u001b[32m━━━━━━━━━━━━━━━━━━━━\u001b[0m\u001b[37m\u001b[0m \u001b[1m3s\u001b[0m 4ms/step - accuracy: 0.9902 - loss: 0.0329 - val_accuracy: 0.9937 - val_loss: 0.0241 - learning_rate: 2.5000e-04\n",
            "Epoch 34/150\n",
            "\u001b[1m750/750\u001b[0m \u001b[32m━━━━━━━━━━━━━━━━━━━━\u001b[0m\u001b[37m\u001b[0m \u001b[1m3s\u001b[0m 4ms/step - accuracy: 0.9905 - loss: 0.0336 - val_accuracy: 0.9931 - val_loss: 0.0227 - learning_rate: 2.5000e-04\n",
            "Epoch 35/150\n",
            "\u001b[1m750/750\u001b[0m \u001b[32m━━━━━━━━━━━━━━━━━━━━\u001b[0m\u001b[37m\u001b[0m \u001b[1m3s\u001b[0m 4ms/step - accuracy: 0.9913 - loss: 0.0325 - val_accuracy: 0.9932 - val_loss: 0.0227 - learning_rate: 1.2500e-04\n",
            "Epoch 36/150\n",
            "\u001b[1m750/750\u001b[0m \u001b[32m━━━━━━━━━━━━━━━━━━━━\u001b[0m\u001b[37m\u001b[0m \u001b[1m3s\u001b[0m 4ms/step - accuracy: 0.9916 - loss: 0.0309 - val_accuracy: 0.9936 - val_loss: 0.0222 - learning_rate: 1.2500e-04\n",
            "Epoch 37/150\n",
            "\u001b[1m750/750\u001b[0m \u001b[32m━━━━━━━━━━━━━━━━━━━━\u001b[0m\u001b[37m\u001b[0m \u001b[1m3s\u001b[0m 4ms/step - accuracy: 0.9911 - loss: 0.0316 - val_accuracy: 0.9936 - val_loss: 0.0224 - learning_rate: 1.2500e-04\n",
            "Epoch 38/150\n",
            "\u001b[1m750/750\u001b[0m \u001b[32m━━━━━━━━━━━━━━━━━━━━\u001b[0m\u001b[37m\u001b[0m \u001b[1m3s\u001b[0m 4ms/step - accuracy: 0.9909 - loss: 0.0320 - val_accuracy: 0.9934 - val_loss: 0.0223 - learning_rate: 1.2500e-04\n",
            "Epoch 39/150\n",
            "\u001b[1m750/750\u001b[0m \u001b[32m━━━━━━━━━━━━━━━━━━━━\u001b[0m\u001b[37m\u001b[0m \u001b[1m3s\u001b[0m 4ms/step - accuracy: 0.9904 - loss: 0.0333 - val_accuracy: 0.9935 - val_loss: 0.0223 - learning_rate: 1.2500e-04\n",
            "Epoch 40/150\n",
            "\u001b[1m750/750\u001b[0m \u001b[32m━━━━━━━━━━━━━━━━━━━━\u001b[0m\u001b[37m\u001b[0m \u001b[1m3s\u001b[0m 4ms/step - accuracy: 0.9912 - loss: 0.0312 - val_accuracy: 0.9936 - val_loss: 0.0223 - learning_rate: 6.2500e-05\n",
            "Epoch 41/150\n",
            "\u001b[1m750/750\u001b[0m \u001b[32m━━━━━━━━━━━━━━━━━━━━\u001b[0m\u001b[37m\u001b[0m \u001b[1m3s\u001b[0m 4ms/step - accuracy: 0.9915 - loss: 0.0278 - val_accuracy: 0.9935 - val_loss: 0.0224 - learning_rate: 6.2500e-05\n",
            "Epoch 42/150\n",
            "\u001b[1m750/750\u001b[0m \u001b[32m━━━━━━━━━━━━━━━━━━━━\u001b[0m\u001b[37m\u001b[0m \u001b[1m3s\u001b[0m 4ms/step - accuracy: 0.9907 - loss: 0.0306 - val_accuracy: 0.9936 - val_loss: 0.0223 - learning_rate: 6.2500e-05\n",
            "Epoch 43/150\n",
            "\u001b[1m750/750\u001b[0m \u001b[32m━━━━━━━━━━━━━━━━━━━━\u001b[0m\u001b[37m\u001b[0m \u001b[1m3s\u001b[0m 4ms/step - accuracy: 0.9919 - loss: 0.0294 - val_accuracy: 0.9937 - val_loss: 0.0221 - learning_rate: 3.1250e-05\n",
            "Epoch 44/150\n",
            "\u001b[1m750/750\u001b[0m \u001b[32m━━━━━━━━━━━━━━━━━━━━\u001b[0m\u001b[37m\u001b[0m \u001b[1m3s\u001b[0m 4ms/step - accuracy: 0.9903 - loss: 0.0337 - val_accuracy: 0.9937 - val_loss: 0.0219 - learning_rate: 3.1250e-05\n",
            "Epoch 45/150\n",
            "\u001b[1m750/750\u001b[0m \u001b[32m━━━━━━━━━━━━━━━━━━━━\u001b[0m\u001b[37m\u001b[0m \u001b[1m3s\u001b[0m 4ms/step - accuracy: 0.9915 - loss: 0.0308 - val_accuracy: 0.9941 - val_loss: 0.0216 - learning_rate: 3.1250e-05\n",
            "Epoch 46/150\n",
            "\u001b[1m750/750\u001b[0m \u001b[32m━━━━━━━━━━━━━━━━━━━━\u001b[0m\u001b[37m\u001b[0m \u001b[1m3s\u001b[0m 4ms/step - accuracy: 0.9922 - loss: 0.0307 - val_accuracy: 0.9940 - val_loss: 0.0217 - learning_rate: 3.1250e-05\n",
            "Epoch 47/150\n",
            "\u001b[1m750/750\u001b[0m \u001b[32m━━━━━━━━━━━━━━━━━━━━\u001b[0m\u001b[37m\u001b[0m \u001b[1m3s\u001b[0m 4ms/step - accuracy: 0.9921 - loss: 0.0276 - val_accuracy: 0.9938 - val_loss: 0.0214 - learning_rate: 3.1250e-05\n",
            "Epoch 48/150\n",
            "\u001b[1m750/750\u001b[0m \u001b[32m━━━━━━━━━━━━━━━━━━━━\u001b[0m\u001b[37m\u001b[0m \u001b[1m3s\u001b[0m 4ms/step - accuracy: 0.9920 - loss: 0.0275 - val_accuracy: 0.9938 - val_loss: 0.0215 - learning_rate: 3.1250e-05\n",
            "Epoch 49/150\n",
            "\u001b[1m750/750\u001b[0m \u001b[32m━━━━━━━━━━━━━━━━━━━━\u001b[0m\u001b[37m\u001b[0m \u001b[1m3s\u001b[0m 4ms/step - accuracy: 0.9930 - loss: 0.0250 - val_accuracy: 0.9937 - val_loss: 0.0215 - learning_rate: 3.1250e-05\n",
            "Epoch 50/150\n",
            "\u001b[1m750/750\u001b[0m \u001b[32m━━━━━━━━━━━━━━━━━━━━\u001b[0m\u001b[37m\u001b[0m \u001b[1m3s\u001b[0m 4ms/step - accuracy: 0.9926 - loss: 0.0262 - val_accuracy: 0.9941 - val_loss: 0.0215 - learning_rate: 3.1250e-05\n",
            "Epoch 51/150\n",
            "\u001b[1m750/750\u001b[0m \u001b[32m━━━━━━━━━━━━━━━━━━━━\u001b[0m\u001b[37m\u001b[0m \u001b[1m3s\u001b[0m 4ms/step - accuracy: 0.9924 - loss: 0.0261 - val_accuracy: 0.9939 - val_loss: 0.0215 - learning_rate: 1.5625e-05\n",
            "Epoch 52/150\n",
            "\u001b[1m750/750\u001b[0m \u001b[32m━━━━━━━━━━━━━━━━━━━━\u001b[0m\u001b[37m\u001b[0m \u001b[1m3s\u001b[0m 4ms/step - accuracy: 0.9919 - loss: 0.0295 - val_accuracy: 0.9937 - val_loss: 0.0216 - learning_rate: 1.5625e-05\n",
            "Epoch 53/150\n",
            "\u001b[1m750/750\u001b[0m \u001b[32m━━━━━━━━━━━━━━━━━━━━\u001b[0m\u001b[37m\u001b[0m \u001b[1m3s\u001b[0m 4ms/step - accuracy: 0.9927 - loss: 0.0271 - val_accuracy: 0.9940 - val_loss: 0.0215 - learning_rate: 1.5625e-05\n",
            "Epoch 54/150\n",
            "\u001b[1m750/750\u001b[0m \u001b[32m━━━━━━━━━━━━━━━━━━━━\u001b[0m\u001b[37m\u001b[0m \u001b[1m3s\u001b[0m 4ms/step - accuracy: 0.9913 - loss: 0.0285 - val_accuracy: 0.9940 - val_loss: 0.0215 - learning_rate: 7.8125e-06\n",
            "Epoch 55/150\n",
            "\u001b[1m750/750\u001b[0m \u001b[32m━━━━━━━━━━━━━━━━━━━━\u001b[0m\u001b[37m\u001b[0m \u001b[1m3s\u001b[0m 4ms/step - accuracy: 0.9923 - loss: 0.0289 - val_accuracy: 0.9940 - val_loss: 0.0215 - learning_rate: 7.8125e-06\n",
            "Epoch 56/150\n",
            "\u001b[1m750/750\u001b[0m \u001b[32m━━━━━━━━━━━━━━━━━━━━\u001b[0m\u001b[37m\u001b[0m \u001b[1m3s\u001b[0m 4ms/step - accuracy: 0.9920 - loss: 0.0270 - val_accuracy: 0.9939 - val_loss: 0.0215 - learning_rate: 7.8125e-06\n",
            "Epoch 57/150\n",
            "\u001b[1m750/750\u001b[0m \u001b[32m━━━━━━━━━━━━━━━━━━━━\u001b[0m\u001b[37m\u001b[0m \u001b[1m3s\u001b[0m 4ms/step - accuracy: 0.9914 - loss: 0.0276 - val_accuracy: 0.9938 - val_loss: 0.0215 - learning_rate: 3.9063e-06\n",
            "Epoch 58/150\n",
            "\u001b[1m750/750\u001b[0m \u001b[32m━━━━━━━━━━━━━━━━━━━━\u001b[0m\u001b[37m\u001b[0m \u001b[1m3s\u001b[0m 4ms/step - accuracy: 0.9919 - loss: 0.0265 - val_accuracy: 0.9938 - val_loss: 0.0215 - learning_rate: 3.9063e-06\n",
            "Epoch 59/150\n",
            "\u001b[1m750/750\u001b[0m \u001b[32m━━━━━━━━━━━━━━━━━━━━\u001b[0m\u001b[37m\u001b[0m \u001b[1m3s\u001b[0m 4ms/step - accuracy: 0.9914 - loss: 0.0290 - val_accuracy: 0.9938 - val_loss: 0.0216 - learning_rate: 3.9063e-06\n",
            "Epoch 60/150\n",
            "\u001b[1m750/750\u001b[0m \u001b[32m━━━━━━━━━━━━━━━━━━━━\u001b[0m\u001b[37m\u001b[0m \u001b[1m3s\u001b[0m 4ms/step - accuracy: 0.9926 - loss: 0.0263 - val_accuracy: 0.9937 - val_loss: 0.0216 - learning_rate: 1.9531e-06\n",
            "Epoch 61/150\n",
            "\u001b[1m750/750\u001b[0m \u001b[32m━━━━━━━━━━━━━━━━━━━━\u001b[0m\u001b[37m\u001b[0m \u001b[1m3s\u001b[0m 4ms/step - accuracy: 0.9925 - loss: 0.0300 - val_accuracy: 0.9937 - val_loss: 0.0216 - learning_rate: 1.9531e-06\n",
            "Epoch 62/150\n",
            "\u001b[1m750/750\u001b[0m \u001b[32m━━━━━━━━━━━━━━━━━━━━\u001b[0m\u001b[37m\u001b[0m \u001b[1m3s\u001b[0m 4ms/step - accuracy: 0.9928 - loss: 0.0286 - val_accuracy: 0.9939 - val_loss: 0.0216 - learning_rate: 1.9531e-06\n",
            "Epoch 63/150\n",
            "\u001b[1m750/750\u001b[0m \u001b[32m━━━━━━━━━━━━━━━━━━━━\u001b[0m\u001b[37m\u001b[0m \u001b[1m3s\u001b[0m 4ms/step - accuracy: 0.9931 - loss: 0.0252 - val_accuracy: 0.9938 - val_loss: 0.0216 - learning_rate: 1.0000e-06\n",
            "Epoch 64/150\n",
            "\u001b[1m750/750\u001b[0m \u001b[32m━━━━━━━━━━━━━━━━━━━━\u001b[0m\u001b[37m\u001b[0m \u001b[1m3s\u001b[0m 4ms/step - accuracy: 0.9915 - loss: 0.0299 - val_accuracy: 0.9937 - val_loss: 0.0216 - learning_rate: 1.0000e-06\n",
            "Epoch 65/150\n",
            "\u001b[1m750/750\u001b[0m \u001b[32m━━━━━━━━━━━━━━━━━━━━\u001b[0m\u001b[37m\u001b[0m \u001b[1m3s\u001b[0m 4ms/step - accuracy: 0.9923 - loss: 0.0286 - val_accuracy: 0.9938 - val_loss: 0.0215 - learning_rate: 1.0000e-06\n",
            "Epoch 66/150\n",
            "\u001b[1m750/750\u001b[0m \u001b[32m━━━━━━━━━━━━━━━━━━━━\u001b[0m\u001b[37m\u001b[0m \u001b[1m3s\u001b[0m 4ms/step - accuracy: 0.9916 - loss: 0.0297 - val_accuracy: 0.9937 - val_loss: 0.0215 - learning_rate: 1.0000e-06\n",
            "Epoch 67/150\n",
            "\u001b[1m750/750\u001b[0m \u001b[32m━━━━━━━━━━━━━━━━━━━━\u001b[0m\u001b[37m\u001b[0m \u001b[1m3s\u001b[0m 4ms/step - accuracy: 0.9921 - loss: 0.0303 - val_accuracy: 0.9939 - val_loss: 0.0216 - learning_rate: 1.0000e-06\n"
          ]
        }
      ]
    },
    {
      "cell_type": "code",
      "source": [
        "# Evaluate on training set\n",
        "train_loss, train_accuracy = cnn_model.evaluate(X_train, y_train)\n",
        "print(f\"Training Loss: {train_loss:.4f}\")\n",
        "print(f\"Training Accuracy: {train_accuracy:.4f}\")\n",
        "\n",
        "# Evaluate on test set\n",
        "test_loss, test_accuracy = cnn_model.evaluate(X_val, y_val)\n",
        "print(f\"Test Loss: {test_loss:.4f}\")\n",
        "print(f\"Test Accuracy: {test_accuracy:.4f}\")"
      ],
      "metadata": {
        "colab": {
          "base_uri": "https://localhost:8080/"
        },
        "id": "znuFIaQqOD2K",
        "outputId": "c5301896-5e01-4475-ccfe-2a67a31eda33"
      },
      "execution_count": null,
      "outputs": [
        {
          "output_type": "stream",
          "name": "stdout",
          "text": [
            "\u001b[1m1500/1500\u001b[0m \u001b[32m━━━━━━━━━━━━━━━━━━━━\u001b[0m\u001b[37m\u001b[0m \u001b[1m3s\u001b[0m 2ms/step - accuracy: 0.9981 - loss: 0.0081\n",
            "Training Loss: 0.0082\n",
            "Training Accuracy: 0.9981\n",
            "\u001b[1m375/375\u001b[0m \u001b[32m━━━━━━━━━━━━━━━━━━━━\u001b[0m\u001b[37m\u001b[0m \u001b[1m1s\u001b[0m 2ms/step - accuracy: 0.9936 - loss: 0.0211\n",
            "Test Loss: 0.0214\n",
            "Test Accuracy: 0.9938\n"
          ]
        }
      ]
    },
    {
      "cell_type": "code",
      "source": [
        "import matplotlib.pyplot as plt\n",
        "plt.figure(figsize=(12, 8))\n",
        "\n",
        "plt.subplot(2, 2, 1)\n",
        "plt.plot(r.history['loss'], label='Loss')\n",
        "plt.plot(r.history['val_loss'], label='val_Loss')\n",
        "plt.legend()\n",
        "plt.title('Loss evolution')\n",
        "\n",
        "plt.subplot(2, 2, 2)\n",
        "plt.plot(r.history['accuracy'], label='accuracy')\n",
        "plt.plot(r.history['val_accuracy'], label='val_accuracy')\n",
        "plt.legend()\n",
        "plt.title('Accuracy evolution')"
      ],
      "metadata": {
        "colab": {
          "base_uri": "https://localhost:8080/",
          "height": 247
        },
        "id": "Juqz9hWHOEKb",
        "outputId": "ca02d574-cc80-46c9-ad42-e95a7b4cbb1d"
      },
      "execution_count": null,
      "outputs": [
        {
          "output_type": "execute_result",
          "data": {
            "text/plain": [
              "Text(0.5, 1.0, 'Accuracy evolution')"
            ]
          },
          "metadata": {},
          "execution_count": 246
        },
        {
          "output_type": "display_data",
          "data": {
            "text/plain": [
              "<Figure size 1200x800 with 2 Axes>"
            ],
            "image/png": "[encoded data removed]"
          },
          "metadata": {}
        }
      ]
    },
    {
      "cell_type": "code",
      "source": [
        "# Make predictions on test set\n",
        "predictions = cnn_model.predict(x_test)"
      ],
      "metadata": {
        "colab": {
          "base_uri": "https://localhost:8080/"
        },
        "id": "BYBlLp7BOGkU",
        "outputId": "c941054f-3a4d-4bf8-bfb9-a5b87d078f17"
      },
      "execution_count": null,
      "outputs": [
        {
          "output_type": "stream",
          "name": "stdout",
          "text": [
            "\u001b[1m94/94\u001b[0m \u001b[32m━━━━━━━━━━━━━━━━━━━━\u001b[0m\u001b[37m\u001b[0m \u001b[1m2s\u001b[0m 15ms/step\n"
          ]
        }
      ]
    },
    {
      "cell_type": "code",
      "source": [
        "# Create ID column\n",
        "ids = np.arange(20001, 20001 + len(predictions)).reshape(-1, 1)\n",
        "\n",
        "# Concatenate ID column with predictions\n",
        "results = np.concatenate([ids, predictions], axis=1)\n",
        "\n",
        "# Convert to DataFrame with column names\n",
        "column_names = ['ID'] + [f'Class{i}' for i in range(predictions.shape[1])]\n",
        "results_df = pd.DataFrame(results, columns=column_names)\n",
        "\n"
      ],
      "metadata": {
        "id": "jG45lfNzOG5q"
      },
      "execution_count": null,
      "outputs": []
    },
    {
      "cell_type": "code",
      "source": [
        "# Save to CSV\n",
        "# Convert ID column to integer type\n",
        "results_df['ID'] = results_df['ID'].astype(int)\n",
        "results_df.to_csv(\"CNN-submission-pt1.csv\", index=False)\n",
        "\n",
        "# Display first few predictions\n",
        "print(\"\\nFirst 10 predictions:\")\n",
        "print(results_df.head(10))\n",
        "\n",
        "# Optional: Save the model\n",
        "cnn_model.save('cnn_model.h5')\n",
        "print(\"\\nModel saved to 'cnn_model.h5'\")"
      ],
      "metadata": {
        "colab": {
          "base_uri": "https://localhost:8080/"
        },
        "id": "2TXZ6En-OHNe",
        "outputId": "d02756ad-fa56-4e88-830d-390eaf300dfc"
      },
      "execution_count": null,
      "outputs": [
        {
          "output_type": "stream",
          "name": "stderr",
          "text": [
            "WARNING:absl:You are saving your model as an HDF5 file via `model.save()` or `keras.saving.save_model(model)`. This file format is considered legacy. We recommend using instead the native Keras format, e.g. `model.save('my_model.keras')` or `keras.saving.save_model(model, 'my_model.keras')`. \n"
          ]
        },
        {
          "output_type": "stream",
          "name": "stdout",
          "text": [
            "\n",
            "First 10 predictions:\n",
            "      ID        Class0        Class1        Class2        Class3  \\\n",
            "0  20001  9.730886e-10  9.999995e-01  5.295725e-08  2.784243e-13   \n",
            "1  20002  4.278643e-09  1.782360e-04  2.020742e-04  9.104425e-06   \n",
            "2  20003  4.103742e-12  4.282956e-11  1.000000e+00  1.732302e-09   \n",
            "3  20004  1.716978e-09  9.999975e-01  1.704321e-07  4.239227e-12   \n",
            "4  20005  1.208404e-12  1.354867e-12  1.332150e-14  1.824139e-10   \n",
            "5  20006  5.252865e-13  4.345549e-14  8.721491e-14  1.429559e-07   \n",
            "6  20007  3.635966e-22  2.017270e-13  1.108117e-13  1.364091e-25   \n",
            "7  20008  1.475621e-25  2.907715e-15  8.388175e-16  7.064070e-29   \n",
            "8  20009  1.266754e-08  1.440423e-06  9.999962e-01  1.684293e-06   \n",
            "9  20010  1.144726e-12  3.559908e-05  2.694204e-05  1.174607e-06   \n",
            "\n",
            "         Class4        Class5        Class6        Class7        Class8  \\\n",
            "0  2.859977e-07  1.995511e-08  1.210511e-09  1.041826e-07  9.256564e-09   \n",
            "1  1.961733e-05  1.177968e-07  1.480063e-19  9.994018e-01  8.973951e-09   \n",
            "2  6.514644e-14  1.471667e-13  5.173107e-17  1.763754e-10  8.122957e-11   \n",
            "3  1.171196e-06  1.387181e-07  5.148465e-10  1.045573e-06  2.291358e-08   \n",
            "4  2.264989e-05  3.059481e-10  4.985140e-22  7.287473e-06  7.545631e-10   \n",
            "5  6.073286e-17  9.999992e-01  1.027606e-08  1.215677e-14  3.207460e-10   \n",
            "6  1.000000e+00  2.920162e-17  1.171667e-13  3.191382e-11  2.230922e-13   \n",
            "7  1.000000e+00  3.012727e-20  2.158596e-16  5.395141e-12  1.832440e-14   \n",
            "8  6.156940e-10  4.733721e-09  1.509004e-10  5.752376e-07  1.451056e-07   \n",
            "9  3.149142e-06  3.632445e-09  5.432746e-23  9.999171e-01  1.574400e-10   \n",
            "\n",
            "         Class9  \n",
            "0  2.202189e-10  \n",
            "1  1.890619e-04  \n",
            "2  2.504284e-15  \n",
            "3  2.777252e-09  \n",
            "4  9.999701e-01  \n",
            "5  6.656685e-07  \n",
            "6  6.030273e-09  \n",
            "7  2.378490e-09  \n",
            "8  4.373759e-10  \n",
            "9  1.604049e-05  \n",
            "\n",
            "Model saved to 'cnn_model.h5'\n"
          ]
        }
      ]
    }
  ]
}